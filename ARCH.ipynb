{
 "cells": [
  {
   "cell_type": "code",
   "execution_count": 1,
   "metadata": {},
   "outputs": [],
   "source": [
    "import numpy as np\n",
    "import pandas as pd\n",
    "import matplotlib.pyplot as plt\n",
    "import seaborn as sns\n",
    "import statsmodels.graphics.tsaplots as sgt\n",
    "import statsmodels.tsa.stattools as sts\n",
    "from statsmodels.tsa.arima_model import ARIMA\n",
    "from scipy.stats import chi2\n",
    "import itertools\n",
    "\n",
    "%matplotlib inline\n",
    "\n",
    "import warnings\n",
    "warnings.filterwarnings(\"ignore\")"
   ]
  },
  {
   "cell_type": "markdown",
   "metadata": {},
   "source": [
    "## ARCH model\n",
    "\n",
    "***ARCH stands for Autoregressive Conditional Heteroscedasticity.***\n",
    "\n",
    "***ARCH(q) only has one order, q. It is the number of previous values(lags) we should include in our model.***\n",
    "\n",
    "* *We want stability in our forecasts, meaning that it should not be volatile. Only under big shocks, should the model perform bad. For this, we square the values in our time series.*\n",
    "\n",
    "* *The \"conditional\" part in ARCH stems from conditional probability, where we find variance of the current value given the variances of the past values.*\n",
    "\n",
    "$$ARCH(1): \\sigma^2_t = \\alpha_0 + \\alpha_1 \\epsilon^2_t$$\n",
    "\n",
    "$$ARCH(q): \\sigma^2_t = \\alpha_0 + \\alpha_1 \\epsilon^2_t + \\alpha_2 \\epsilon^2_{t-1} + \\dotso + \\alpha_q \\epsilon^2_{t-q}$$\n",
    "\n",
    "***We use the 2-equation ARCH which goes like this:***\n",
    "\n",
    "$$X_t = C + \\delta_1 \\mu_{t-1} + \\epsilon_t$$\n",
    "$$\\sigma^2 = \\alpha_0 + \\alpha_1 \\epsilon^2_{t-1}$$\n",
    "\n",
    "***We first estimate the residuals using the mean time series model, then we estimate the variance.***\n",
    "\n",
    "***While we couldn't estimate no. of lags required for ARMA and ARIMA model using ACF/PACF plots, we can estimate no. of lags for ARCH models using PACF plots(for returns and squared returns).***"
   ]
  },
  {
   "cell_type": "code",
   "execution_count": 2,
   "metadata": {},
   "outputs": [
    {
     "data": {
      "text/html": [
       "<div>\n",
       "<style scoped>\n",
       "    .dataframe tbody tr th:only-of-type {\n",
       "        vertical-align: middle;\n",
       "    }\n",
       "\n",
       "    .dataframe tbody tr th {\n",
       "        vertical-align: top;\n",
       "    }\n",
       "\n",
       "    .dataframe thead th {\n",
       "        text-align: right;\n",
       "    }\n",
       "</style>\n",
       "<table border=\"1\" class=\"dataframe\">\n",
       "  <thead>\n",
       "    <tr style=\"text-align: right;\">\n",
       "      <th></th>\n",
       "      <th>date</th>\n",
       "      <th>spx</th>\n",
       "      <th>dax</th>\n",
       "      <th>ftse</th>\n",
       "      <th>nikkei</th>\n",
       "    </tr>\n",
       "  </thead>\n",
       "  <tbody>\n",
       "    <tr>\n",
       "      <th>0</th>\n",
       "      <td>07/01/1994</td>\n",
       "      <td>469.90</td>\n",
       "      <td>2224.95</td>\n",
       "      <td>3445.98</td>\n",
       "      <td>18124.01</td>\n",
       "    </tr>\n",
       "    <tr>\n",
       "      <th>1</th>\n",
       "      <td>10/01/1994</td>\n",
       "      <td>475.27</td>\n",
       "      <td>2225.00</td>\n",
       "      <td>3440.58</td>\n",
       "      <td>18443.44</td>\n",
       "    </tr>\n",
       "    <tr>\n",
       "      <th>2</th>\n",
       "      <td>11/01/1994</td>\n",
       "      <td>474.13</td>\n",
       "      <td>2228.10</td>\n",
       "      <td>3413.77</td>\n",
       "      <td>18485.25</td>\n",
       "    </tr>\n",
       "    <tr>\n",
       "      <th>3</th>\n",
       "      <td>12/01/1994</td>\n",
       "      <td>474.17</td>\n",
       "      <td>2182.06</td>\n",
       "      <td>3372.02</td>\n",
       "      <td>18793.88</td>\n",
       "    </tr>\n",
       "    <tr>\n",
       "      <th>4</th>\n",
       "      <td>13/01/1994</td>\n",
       "      <td>472.47</td>\n",
       "      <td>2142.37</td>\n",
       "      <td>3360.01</td>\n",
       "      <td>18577.26</td>\n",
       "    </tr>\n",
       "  </tbody>\n",
       "</table>\n",
       "</div>"
      ],
      "text/plain": [
       "         date     spx      dax     ftse    nikkei\n",
       "0  07/01/1994  469.90  2224.95  3445.98  18124.01\n",
       "1  10/01/1994  475.27  2225.00  3440.58  18443.44\n",
       "2  11/01/1994  474.13  2228.10  3413.77  18485.25\n",
       "3  12/01/1994  474.17  2182.06  3372.02  18793.88\n",
       "4  13/01/1994  472.47  2142.37  3360.01  18577.26"
      ]
     },
     "execution_count": 2,
     "metadata": {},
     "output_type": "execute_result"
    }
   ],
   "source": [
    "actual_data = pd.read_csv(\"../../datasets/stock_prices/index_2018.csv\")\n",
    "df = actual_data.copy()\n",
    "df.head()"
   ]
  },
  {
   "cell_type": "code",
   "execution_count": 3,
   "metadata": {},
   "outputs": [],
   "source": [
    "df[\"date\"] = pd.to_datetime(df[\"date\"], dayfirst=True)\n",
    "df_index = df[\"date\"]\n",
    "df.drop(\"date\", axis=1, inplace=True)\n",
    "df.index = df_index\n",
    "df.index.name = None\n",
    "\n",
    "df = df.asfreq(\"b\")\n",
    "\n",
    "df = df.apply(lambda x: x.fillna(method=\"ffill\"))\n",
    "\n",
    "df_spx = pd.DataFrame(df[\"spx\"])\n",
    "df_ftse = pd.DataFrame(df[\"ftse\"])\n",
    "\n",
    "df_ftse[\"returns\"] = df_ftse[\"ftse\"].pct_change(1)"
   ]
  },
  {
   "cell_type": "code",
   "execution_count": 4,
   "metadata": {},
   "outputs": [],
   "source": [
    "df_ftse[\"sq_returns\"] = df_ftse[\"returns\"] ** 2"
   ]
  },
  {
   "cell_type": "code",
   "execution_count": 5,
   "metadata": {},
   "outputs": [
    {
     "data": {
      "image/png": "[encoded data removed]",
      "text/plain": [
       "<Figure size 1080x504 with 2 Axes>"
      ]
     },
     "metadata": {
      "needs_background": "light"
     },
     "output_type": "display_data"
    }
   ],
   "source": [
    "plt.figure(figsize=(15, 7))\n",
    "layout = (2, 2)\n",
    "returns_ax = plt.subplot2grid(layout, (0, 0))\n",
    "sq_returns_ax = plt.subplot2grid(layout, (0, 1))\n",
    "df_ftse[\"returns\"].plot(ax=returns_ax)\n",
    "df_ftse[\"sq_returns\"].plot(ax=sq_returns_ax)\n",
    "plt.show()"
   ]
  },
  {
   "cell_type": "code",
   "execution_count": 6,
   "metadata": {},
   "outputs": [],
   "source": [
    "from arch import arch_model"
   ]
  },
  {
   "cell_type": "code",
   "execution_count": 7,
   "metadata": {},
   "outputs": [
    {
     "name": "stdout",
     "output_type": "stream",
     "text": [
      "Iteration:      1,   Func. Count:      6,   Neg. LLF: -20476.120460450245\n",
      "Iteration:      2,   Func. Count:     21,   Neg. LLF: -20479.09420266111\n",
      "Iteration:      3,   Func. Count:     37,   Neg. LLF: -19009.792202230885\n",
      "Iteration:      4,   Func. Count:     53,   Neg. LLF: -2332.99496186534\n",
      "Iteration:      5,   Func. Count:     66,   Neg. LLF: -16374.688590812915\n",
      "Iteration:      6,   Func. Count:     82,   Neg. LLF: 1434.523924632803\n",
      "Iteration:      7,   Func. Count:     96,   Neg. LLF: -6399.089322241207\n",
      "Iteration:      8,   Func. Count:    110,   Neg. LLF: -11709.564076971707\n",
      "Iteration:      9,   Func. Count:    126,   Neg. LLF: -15983.127906588732\n",
      "Iteration:     10,   Func. Count:    142,   Neg. LLF: 2658.1015509747554\n",
      "Iteration:     11,   Func. Count:    154,   Neg. LLF: -20380.70405431171\n",
      "Iteration:     12,   Func. Count:    170,   Neg. LLF: -4252.670561836594\n",
      "Positive directional derivative for linesearch    (Exit mode 8)\n",
      "            Current function value: -4252.670481130069\n",
      "            Iterations: 16\n",
      "            Function evaluations: 170\n",
      "            Gradient evaluations: 12\n",
      "                     Constant Mean - GARCH Model Results                      \n",
      "==============================================================================\n",
      "Dep. Variable:                returns   R-squared:                    -113.821\n",
      "Mean Model:             Constant Mean   Adj. R-squared:               -113.821\n",
      "Vol Model:                      GARCH   Log-Likelihood:                4252.67\n",
      "Distribution:                  Normal   AIC:                          -8497.34\n",
      "Method:            Maximum Likelihood   BIC:                          -8470.36\n",
      "                                        No. Observations:                 6276\n",
      "Date:                Tue, Mar 17 2020   Df Residuals:                     6272\n",
      "Time:                        11:45:48   Df Model:                            4\n",
      "                               Mean Model                               \n",
      "========================================================================\n",
      "                 coef    std err          t      P>|t|  95.0% Conf. Int.\n",
      "------------------------------------------------------------------------\n",
      "mu            -0.1190  2.806e-03    -42.395      0.000 [ -0.124, -0.113]\n",
      "                               Volatility Model                              \n",
      "=============================================================================\n",
      "                 coef    std err          t      P>|t|       95.0% Conf. Int.\n",
      "-----------------------------------------------------------------------------\n",
      "omega      2.4947e-06  3.055e-05  8.166e-02      0.935 [-5.738e-05,6.237e-05]\n",
      "alpha[1]       0.1000  5.723e-03     17.472  2.351e-68    [8.878e-02,  0.111]\n",
      "beta[1]        0.8800  7.469e-03    117.824      0.000      [  0.865,  0.895]\n",
      "=============================================================================\n",
      "\n",
      "Covariance estimator: robust\n",
      "WARNING: The optimizer did not indicate successful convergence. The message was Positive directional derivative for linesearch.\n",
      "See convergence_flag.\n",
      "\n"
     ]
    },
    {
     "name": "stderr",
     "output_type": "stream",
     "text": [
      "C:\\Users\\Hritik\\AppData\\Local\\Continuum\\anaconda3\\envs\\my_env\\lib\\site-packages\\arch\\univariate\\base.py:711: ConvergenceWarning: The optimizer returned code 8. The message is:\n",
      "Positive directional derivative for linesearch\n",
      "See scipy.optimize.fmin_slsqp for code meaning.\n",
      "\n",
      "  ConvergenceWarning,\n"
     ]
    }
   ],
   "source": [
    "model = arch_model(df_ftse[\"returns\"][1:])\n",
    "result = model.fit()\n",
    "print(result.summary())"
   ]
  },
  {
   "cell_type": "markdown",
   "metadata": {},
   "source": [
    "## ARCH(1)\n",
    "\n",
    "* *If R-squared/Adj. R-squared is negative zero, it means that its value is so small and negative that we round it to zero.*\n",
    "\n",
    "* *This metric is zero because it is defined as the \"explained variance\". But there is no variance here as we give constant mean.*\n",
    "\n",
    "* *This model is performing better than previous models we have discussed. But remember that this model is not used to forecast the prices/returns, instead it predicts the variance(stability/volatility) in the future.*"
   ]
  },
  {
   "cell_type": "code",
   "execution_count": 8,
   "metadata": {},
   "outputs": [
    {
     "name": "stdout",
     "output_type": "stream",
     "text": [
      "Iteration:      1,   Func. Count:      5,   Neg. LLF: -19663.235399629782\n",
      "Iteration:      2,   Func. Count:     18,   Neg. LLF: -19664.034940915528\n",
      "Iteration:      3,   Func. Count:     30,   Neg. LLF: -19664.03502684566\n",
      "Iteration:      4,   Func. Count:     42,   Neg. LLF: -19664.035061842522\n",
      "Optimization terminated successfully.    (Exit mode 0)\n",
      "            Current function value: -19664.03509261844\n",
      "            Iterations: 6\n",
      "            Function evaluations: 51\n",
      "            Gradient evaluations: 4\n"
     ]
    },
    {
     "data": {
      "text/html": [
       "<table class=\"simpletable\">\n",
       "<caption>Constant Mean - ARCH Model Results</caption>\n",
       "<tr>\n",
       "  <th>Dep. Variable:</th>       <td>returns</td>      <th>  R-squared:         </th>  <td>  -0.000</td> \n",
       "</tr>\n",
       "<tr>\n",
       "  <th>Mean Model:</th>       <td>Constant Mean</td>   <th>  Adj. R-squared:    </th>  <td>  -0.000</td> \n",
       "</tr>\n",
       "<tr>\n",
       "  <th>Vol Model:</th>            <td>ARCH</td>        <th>  Log-Likelihood:    </th> <td>   19664.0</td>\n",
       "</tr>\n",
       "<tr>\n",
       "  <th>Distribution:</th>        <td>Normal</td>       <th>  AIC:               </th> <td>  -39322.1</td>\n",
       "</tr>\n",
       "<tr>\n",
       "  <th>Method:</th>        <td>Maximum Likelihood</td> <th>  BIC:               </th> <td>  -39301.8</td>\n",
       "</tr>\n",
       "<tr>\n",
       "  <th></th>                        <td></td>          <th>  No. Observations:  </th>    <td>6276</td>   \n",
       "</tr>\n",
       "<tr>\n",
       "  <th>Date:</th>           <td>Tue, Mar 17 2020</td>  <th>  Df Residuals:      </th>    <td>6273</td>   \n",
       "</tr>\n",
       "<tr>\n",
       "  <th>Time:</th>               <td>11:45:48</td>      <th>  Df Model:          </th>      <td>3</td>    \n",
       "</tr>\n",
       "</table>\n",
       "<table class=\"simpletable\">\n",
       "<caption>Mean Model</caption>\n",
       "<tr>\n",
       "   <td></td>     <th>coef</th>     <th>std err</th>      <th>t</th>       <th>P>|t|</th>     <th>95.0% Conf. Int.</th>   \n",
       "</tr>\n",
       "<tr>\n",
       "  <th>mu</th> <td>3.4338e-04</td> <td>1.367e-04</td> <td>    2.512</td> <td>1.200e-02</td> <td>[7.549e-05,6.113e-04]</td>\n",
       "</tr>\n",
       "</table>\n",
       "<table class=\"simpletable\">\n",
       "<caption>Volatility Model</caption>\n",
       "<tr>\n",
       "      <td></td>        <th>coef</th>     <th>std err</th>      <th>t</th>        <th>P>|t|</th>     <th>95.0% Conf. Int.</th>   \n",
       "</tr>\n",
       "<tr>\n",
       "  <th>omega</th>    <td>8.1074e-05</td> <td>2.949e-06</td> <td>   27.492</td> <td>2.191e-166</td> <td>[7.529e-05,8.685e-05]</td>\n",
       "</tr>\n",
       "<tr>\n",
       "  <th>alpha[1]</th> <td>    0.3500</td> <td>4.041e-02</td> <td>    8.662</td>  <td>4.645e-18</td>   <td>[  0.271,  0.429]</td>  \n",
       "</tr>\n",
       "</table><br/><br/>Covariance estimator: robust"
      ],
      "text/plain": [
       "<class 'statsmodels.iolib.summary.Summary'>\n",
       "\"\"\"\n",
       "                      Constant Mean - ARCH Model Results                      \n",
       "==============================================================================\n",
       "Dep. Variable:                returns   R-squared:                      -0.000\n",
       "Mean Model:             Constant Mean   Adj. R-squared:                 -0.000\n",
       "Vol Model:                       ARCH   Log-Likelihood:                19664.0\n",
       "Distribution:                  Normal   AIC:                          -39322.1\n",
       "Method:            Maximum Likelihood   BIC:                          -39301.8\n",
       "                                        No. Observations:                 6276\n",
       "Date:                Tue, Mar 17 2020   Df Residuals:                     6273\n",
       "Time:                        11:45:48   Df Model:                            3\n",
       "                                 Mean Model                                 \n",
       "============================================================================\n",
       "                 coef    std err          t      P>|t|      95.0% Conf. Int.\n",
       "----------------------------------------------------------------------------\n",
       "mu         3.4338e-04  1.367e-04      2.512  1.200e-02 [7.549e-05,6.113e-04]\n",
       "                              Volatility Model                              \n",
       "============================================================================\n",
       "                 coef    std err          t      P>|t|      95.0% Conf. Int.\n",
       "----------------------------------------------------------------------------\n",
       "omega      8.1074e-05  2.949e-06     27.492 2.191e-166 [7.529e-05,8.685e-05]\n",
       "alpha[1]       0.3500  4.041e-02      8.662  4.645e-18     [  0.271,  0.429]\n",
       "============================================================================\n",
       "\n",
       "Covariance estimator: robust\n",
       "\"\"\""
      ]
     },
     "execution_count": 8,
     "metadata": {},
     "output_type": "execute_result"
    }
   ],
   "source": [
    "model = arch_model(df_ftse[\"returns\"][1:], mean=\"Constant\", vol=\"ARCH\", p=1)\n",
    "result = model.fit()\n",
    "result.summary()"
   ]
  },
  {
   "cell_type": "code",
   "execution_count": 9,
   "metadata": {},
   "outputs": [
    {
     "name": "stdout",
     "output_type": "stream",
     "text": [
      "Iteration:      1,   Func. Count:      6,   Neg. LLF: -19915.363192090797\n",
      "Iteration:      2,   Func. Count:     20,   Neg. LLF: -19916.98471650595\n",
      "Iteration:      3,   Func. Count:     30,   Neg. LLF: -19917.40029692224\n",
      "Iteration:      4,   Func. Count:     41,   Neg. LLF: -19917.4003774758\n",
      "Iteration:      5,   Func. Count:     50,   Neg. LLF: -19917.445550259166\n",
      "Iteration:      6,   Func. Count:     58,   Neg. LLF: -19917.71149667011\n",
      "Iteration:      7,   Func. Count:     71,   Neg. LLF: -19917.712809740653\n",
      "Optimization terminated successfully.    (Exit mode 0)\n",
      "            Current function value: -19917.712809513418\n",
      "            Iterations: 8\n",
      "            Function evaluations: 80\n",
      "            Gradient evaluations: 7\n"
     ]
    },
    {
     "data": {
      "text/html": [
       "<table class=\"simpletable\">\n",
       "<caption>Constant Mean - ARCH Model Results</caption>\n",
       "<tr>\n",
       "  <th>Dep. Variable:</th>       <td>returns</td>      <th>  R-squared:         </th>  <td>  -0.000</td> \n",
       "</tr>\n",
       "<tr>\n",
       "  <th>Mean Model:</th>       <td>Constant Mean</td>   <th>  Adj. R-squared:    </th>  <td>  -0.000</td> \n",
       "</tr>\n",
       "<tr>\n",
       "  <th>Vol Model:</th>            <td>ARCH</td>        <th>  Log-Likelihood:    </th> <td>   19917.7</td>\n",
       "</tr>\n",
       "<tr>\n",
       "  <th>Distribution:</th>        <td>Normal</td>       <th>  AIC:               </th> <td>  -39827.4</td>\n",
       "</tr>\n",
       "<tr>\n",
       "  <th>Method:</th>        <td>Maximum Likelihood</td> <th>  BIC:               </th> <td>  -39800.4</td>\n",
       "</tr>\n",
       "<tr>\n",
       "  <th></th>                        <td></td>          <th>  No. Observations:  </th>    <td>6276</td>   \n",
       "</tr>\n",
       "<tr>\n",
       "  <th>Date:</th>           <td>Tue, Mar 17 2020</td>  <th>  Df Residuals:      </th>    <td>6272</td>   \n",
       "</tr>\n",
       "<tr>\n",
       "  <th>Time:</th>               <td>11:45:48</td>      <th>  Df Model:          </th>      <td>4</td>    \n",
       "</tr>\n",
       "</table>\n",
       "<table class=\"simpletable\">\n",
       "<caption>Mean Model</caption>\n",
       "<tr>\n",
       "   <td></td>     <th>coef</th>     <th>std err</th>      <th>t</th>       <th>P>|t|</th>     <th>95.0% Conf. Int.</th>   \n",
       "</tr>\n",
       "<tr>\n",
       "  <th>mu</th> <td>4.2362e-04</td> <td>1.186e-04</td> <td>    3.570</td> <td>3.566e-04</td> <td>[1.911e-04,6.562e-04]</td>\n",
       "</tr>\n",
       "</table>\n",
       "<table class=\"simpletable\">\n",
       "<caption>Volatility Model</caption>\n",
       "<tr>\n",
       "      <td></td>        <th>coef</th>     <th>std err</th>      <th>t</th>        <th>P>|t|</th>     <th>95.0% Conf. Int.</th>   \n",
       "</tr>\n",
       "<tr>\n",
       "  <th>omega</th>    <td>6.1683e-05</td> <td>2.349e-06</td> <td>   26.257</td> <td>5.884e-152</td> <td>[5.708e-05,6.629e-05]</td>\n",
       "</tr>\n",
       "<tr>\n",
       "  <th>alpha[1]</th> <td>    0.2460</td> <td>3.260e-02</td> <td>    7.546</td>  <td>4.484e-14</td>   <td>[  0.182,  0.310]</td>  \n",
       "</tr>\n",
       "<tr>\n",
       "  <th>alpha[2]</th> <td>    0.2619</td> <td>3.078e-02</td> <td>    8.508</td>  <td>1.768e-17</td>   <td>[  0.202,  0.322]</td>  \n",
       "</tr>\n",
       "</table><br/><br/>Covariance estimator: robust"
      ],
      "text/plain": [
       "<class 'statsmodels.iolib.summary.Summary'>\n",
       "\"\"\"\n",
       "                      Constant Mean - ARCH Model Results                      \n",
       "==============================================================================\n",
       "Dep. Variable:                returns   R-squared:                      -0.000\n",
       "Mean Model:             Constant Mean   Adj. R-squared:                 -0.000\n",
       "Vol Model:                       ARCH   Log-Likelihood:                19917.7\n",
       "Distribution:                  Normal   AIC:                          -39827.4\n",
       "Method:            Maximum Likelihood   BIC:                          -39800.4\n",
       "                                        No. Observations:                 6276\n",
       "Date:                Tue, Mar 17 2020   Df Residuals:                     6272\n",
       "Time:                        11:45:48   Df Model:                            4\n",
       "                                 Mean Model                                 \n",
       "============================================================================\n",
       "                 coef    std err          t      P>|t|      95.0% Conf. Int.\n",
       "----------------------------------------------------------------------------\n",
       "mu         4.2362e-04  1.186e-04      3.570  3.566e-04 [1.911e-04,6.562e-04]\n",
       "                              Volatility Model                              \n",
       "============================================================================\n",
       "                 coef    std err          t      P>|t|      95.0% Conf. Int.\n",
       "----------------------------------------------------------------------------\n",
       "omega      6.1683e-05  2.349e-06     26.257 5.884e-152 [5.708e-05,6.629e-05]\n",
       "alpha[1]       0.2460  3.260e-02      7.546  4.484e-14     [  0.182,  0.310]\n",
       "alpha[2]       0.2619  3.078e-02      8.508  1.768e-17     [  0.202,  0.322]\n",
       "============================================================================\n",
       "\n",
       "Covariance estimator: robust\n",
       "\"\"\""
      ]
     },
     "execution_count": 9,
     "metadata": {},
     "output_type": "execute_result"
    }
   ],
   "source": [
    "model = arch_model(df_ftse[\"returns\"][1:], mean=\"Constant\", vol=\"ARCH\", p=2)\n",
    "result = model.fit()\n",
    "result.summary()"
   ]
  },
  {
   "cell_type": "markdown",
   "metadata": {},
   "source": [
    "## GARCH\n",
    "\n",
    "***GARCH stands for Generalized Autoregressive Conditional Heteroscedasticity Model.***\n",
    "\n",
    "***In GARCH model, in surplus to the ARCH model, we also include variances of lags in our model. The idea behind this\n",
    "is that periods of low volatility are often followed by low volatility and same goes for high volatility. This is an important point which we can take into consideration to forecast variances.***\n",
    "\n",
    "$$X_t = C + \\delta_1 \\mu_{t-1} + \\epsilon_t$$\n",
    "$$\\sigma^2 = \\alpha_0 + \\alpha_1 \\epsilon^2_{t-1} + \\beta_1 \\sigma^2_{t-1}$$\n",
    "\n",
    "$$\\text{where,}$$\n",
    "$$\\sigma^2_{t-1} = \\alpha^{'}_0 + \\alpha^{'}_1 \\epsilon^2_{t-1}$$\n",
    "\n",
    "***GARCH models are very similar to ARMA models, the two orders p and q are also essentially the same.***\n",
    "\n",
    "***Note that GARCH(1, 1) is proven to be the best model for measuring volatility of returns. No need of higher-lag GARCH model.***"
   ]
  },
  {
   "cell_type": "code",
   "execution_count": 10,
   "metadata": {},
   "outputs": [
    {
     "name": "stdout",
     "output_type": "stream",
     "text": [
      "Iteration:      5,   Func. Count:     66,   Neg. LLF: -16374.688590812915\n",
      "Iteration:     10,   Func. Count:    142,   Neg. LLF: 2658.1015509747554\n",
      "Positive directional derivative for linesearch    (Exit mode 8)\n",
      "            Current function value: -4252.670481130069\n",
      "            Iterations: 16\n",
      "            Function evaluations: 170\n",
      "            Gradient evaluations: 12\n",
      "                     Constant Mean - GARCH Model Results                      \n",
      "==============================================================================\n",
      "Dep. Variable:                returns   R-squared:                    -113.821\n",
      "Mean Model:             Constant Mean   Adj. R-squared:               -113.821\n",
      "Vol Model:                      GARCH   Log-Likelihood:                4252.67\n",
      "Distribution:                  Normal   AIC:                          -8497.34\n",
      "Method:            Maximum Likelihood   BIC:                          -8470.36\n",
      "                                        No. Observations:                 6276\n",
      "Date:                Tue, Mar 17 2020   Df Residuals:                     6272\n",
      "Time:                        11:47:09   Df Model:                            4\n",
      "                               Mean Model                               \n",
      "========================================================================\n",
      "                 coef    std err          t      P>|t|  95.0% Conf. Int.\n",
      "------------------------------------------------------------------------\n",
      "mu            -0.1190  2.806e-03    -42.395      0.000 [ -0.124, -0.113]\n",
      "                               Volatility Model                              \n",
      "=============================================================================\n",
      "                 coef    std err          t      P>|t|       95.0% Conf. Int.\n",
      "-----------------------------------------------------------------------------\n",
      "omega      2.4947e-06  3.055e-05  8.166e-02      0.935 [-5.738e-05,6.237e-05]\n",
      "alpha[1]       0.1000  5.723e-03     17.472  2.351e-68    [8.878e-02,  0.111]\n",
      "beta[1]        0.8800  7.469e-03    117.824      0.000      [  0.865,  0.895]\n",
      "=============================================================================\n",
      "\n",
      "Covariance estimator: robust\n",
      "WARNING: The optimizer did not indicate successful convergence. The message was Positive directional derivative for linesearch.\n",
      "See convergence_flag.\n",
      "\n"
     ]
    },
    {
     "name": "stderr",
     "output_type": "stream",
     "text": [
      "C:\\Users\\Hritik\\AppData\\Local\\Continuum\\anaconda3\\envs\\my_env\\lib\\site-packages\\arch\\univariate\\base.py:711: ConvergenceWarning: The optimizer returned code 8. The message is:\n",
      "Positive directional derivative for linesearch\n",
      "See scipy.optimize.fmin_slsqp for code meaning.\n",
      "\n",
      "  ConvergenceWarning,\n"
     ]
    }
   ],
   "source": [
    "model = arch_model(df_ftse[\"returns\"][1:], mean=\"Constant\", vol=\"GARCH\", p=1, q=1)\n",
    "result = model.fit(update_freq=5)\n",
    "print(result.summary())"
   ]
  },
  {
   "cell_type": "code",
   "execution_count": null,
   "metadata": {},
   "outputs": [],
   "source": []
  },
  {
   "cell_type": "code",
   "execution_count": null,
   "metadata": {},
   "outputs": [],
   "source": []
  }
 ],
 "metadata": {
  "kernelspec": {
   "display_name": "my_env",
   "language": "python",
   "name": "my_env"
  },
  "language_info": {
   "codemirror_mode": {
    "name": "ipython",
    "version": 3
   },
   "file_extension": ".py",
   "mimetype": "text/x-python",
   "name": "python",
   "nbconvert_exporter": "python",
   "pygments_lexer": "ipython3",
   "version": "3.7.3"
  }
 },
 "nbformat": 4,
 "nbformat_minor": 4
}
