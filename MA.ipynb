{
 "cells": [
  {
   "cell_type": "code",
   "execution_count": 1,
   "metadata": {},
   "outputs": [],
   "source": [
    "import numpy as np\n",
    "import pandas as pd\n",
    "import matplotlib.pyplot as plt\n",
    "import seaborn as sns\n",
    "import statsmodels.graphics.tsaplots as sgt\n",
    "import statsmodels.tsa.stattools as sts\n",
    "from statsmodels.tsa.seasonal import seasonal_decompose\n",
    "from statsmodels.tsa.arima_model import ARMA\n",
    "from scipy.stats import chi2\n",
    "\n",
    "%matplotlib inline"
   ]
  },
  {
   "cell_type": "markdown",
   "metadata": {},
   "source": [
    "## Moving Average(MA) model\n",
    "\n",
    "***AR models are not that good at handling unexpected shocks in data, as they predict the current value using the previous values. Moving Average(MA) models take into account the residuals(errors) to predict the current value, so it is able to handle unexpected shocks more quickly.***\n",
    "\n",
    "$$X(t) = \\alpha + \\theta_1 \\cdot Er(t - 1) + Er(t)$$\n",
    "\n",
    "* *Another difference between AR and MA is that to determine maximum number of lags in case of AR model, we relied on PACF plot, whereas in case of MA models, we rely on ACF plots. The reason is that since MA models aren't dependent on previous values, determining which lagged values have a significant effect on current value becomes irrelevant.*"
   ]
  },
  {
   "cell_type": "code",
   "execution_count": 2,
   "metadata": {},
   "outputs": [
    {
     "data": {
      "text/html": [
       "<div>\n",
       "<style scoped>\n",
       "    .dataframe tbody tr th:only-of-type {\n",
       "        vertical-align: middle;\n",
       "    }\n",
       "\n",
       "    .dataframe tbody tr th {\n",
       "        vertical-align: top;\n",
       "    }\n",
       "\n",
       "    .dataframe thead th {\n",
       "        text-align: right;\n",
       "    }\n",
       "</style>\n",
       "<table border=\"1\" class=\"dataframe\">\n",
       "  <thead>\n",
       "    <tr style=\"text-align: right;\">\n",
       "      <th></th>\n",
       "      <th>date</th>\n",
       "      <th>spx</th>\n",
       "      <th>dax</th>\n",
       "      <th>ftse</th>\n",
       "      <th>nikkei</th>\n",
       "    </tr>\n",
       "  </thead>\n",
       "  <tbody>\n",
       "    <tr>\n",
       "      <th>0</th>\n",
       "      <td>07/01/1994</td>\n",
       "      <td>469.90</td>\n",
       "      <td>2224.95</td>\n",
       "      <td>3445.98</td>\n",
       "      <td>18124.01</td>\n",
       "    </tr>\n",
       "    <tr>\n",
       "      <th>1</th>\n",
       "      <td>10/01/1994</td>\n",
       "      <td>475.27</td>\n",
       "      <td>2225.00</td>\n",
       "      <td>3440.58</td>\n",
       "      <td>18443.44</td>\n",
       "    </tr>\n",
       "    <tr>\n",
       "      <th>2</th>\n",
       "      <td>11/01/1994</td>\n",
       "      <td>474.13</td>\n",
       "      <td>2228.10</td>\n",
       "      <td>3413.77</td>\n",
       "      <td>18485.25</td>\n",
       "    </tr>\n",
       "    <tr>\n",
       "      <th>3</th>\n",
       "      <td>12/01/1994</td>\n",
       "      <td>474.17</td>\n",
       "      <td>2182.06</td>\n",
       "      <td>3372.02</td>\n",
       "      <td>18793.88</td>\n",
       "    </tr>\n",
       "    <tr>\n",
       "      <th>4</th>\n",
       "      <td>13/01/1994</td>\n",
       "      <td>472.47</td>\n",
       "      <td>2142.37</td>\n",
       "      <td>3360.01</td>\n",
       "      <td>18577.26</td>\n",
       "    </tr>\n",
       "  </tbody>\n",
       "</table>\n",
       "</div>"
      ],
      "text/plain": [
       "         date     spx      dax     ftse    nikkei\n",
       "0  07/01/1994  469.90  2224.95  3445.98  18124.01\n",
       "1  10/01/1994  475.27  2225.00  3440.58  18443.44\n",
       "2  11/01/1994  474.13  2228.10  3413.77  18485.25\n",
       "3  12/01/1994  474.17  2182.06  3372.02  18793.88\n",
       "4  13/01/1994  472.47  2142.37  3360.01  18577.26"
      ]
     },
     "execution_count": 2,
     "metadata": {},
     "output_type": "execute_result"
    }
   ],
   "source": [
    "actual_data = pd.read_csv(\"../../datasets/stock_prices/index_2018.csv\")\n",
    "df = actual_data.copy()\n",
    "df.head()"
   ]
  },
  {
   "cell_type": "code",
   "execution_count": 3,
   "metadata": {},
   "outputs": [],
   "source": [
    "df[\"date\"] = pd.to_datetime(df[\"date\"], dayfirst=True)\n",
    "df_index = df[\"date\"]\n",
    "df.drop(\"date\", axis=1, inplace=True)\n",
    "df.index = df_index\n",
    "df.index.name = None\n",
    "\n",
    "df = df.asfreq(\"b\")\n",
    "\n",
    "df.apply(lambda x: x.fillna(method=\"ffill\"))\n",
    "\n",
    "df_spx = pd.DataFrame(df[\"spx\"])\n",
    "df_ftse = pd.DataFrame(df[\"ftse\"])\n",
    "\n",
    "df_ftse[\"returns\"] = df_ftse[\"ftse\"].pct_change(1)"
   ]
  },
  {
   "cell_type": "code",
   "execution_count": 4,
   "metadata": {},
   "outputs": [],
   "source": [
    "def LLR_test(model1, model2, df=1):\n",
    "    \"\"\"\n",
    "        model1 -> First model\n",
    "        model2 -> Second model\n",
    "        df -> Degrees of freedom(default 1 as we are generally comparing models of only one order difference)\n",
    "    \"\"\"\n",
    "    L1 = model1.fit().llf\n",
    "    L2 = model2.fit().llf\n",
    "    LR = 2 * (L2 - L1)\n",
    "    p = chi2.sf(LR, df).round(4)\n",
    "    return p"
   ]
  },
  {
   "cell_type": "markdown",
   "metadata": {},
   "source": [
    "## MA(P, Q)\n",
    "\n",
    "* ***P:*** *The AR model component.*\n",
    "* ***Q:*** *The MA model component.*"
   ]
  },
  {
   "cell_type": "code",
   "execution_count": 5,
   "metadata": {},
   "outputs": [
    {
     "data": {
      "image/png": "[encoded data removed]",
      "text/plain": [
       "<Figure size 432x288 with 1 Axes>"
      ]
     },
     "metadata": {
      "needs_background": "light"
     },
     "output_type": "display_data"
    }
   ],
   "source": [
    "sgt.plot_acf(df_ftse[\"returns\"][1:], lags=40, zero=False)\n",
    "plt.show()"
   ]
  },
  {
   "cell_type": "code",
   "execution_count": 6,
   "metadata": {},
   "outputs": [
    {
     "name": "stdout",
     "output_type": "stream",
     "text": [
      "                              ARMA Model Results                              \n",
      "==============================================================================\n",
      "Dep. Variable:                returns   No. Observations:                 6276\n",
      "Model:                     ARMA(0, 1)   Log Likelihood               19304.450\n",
      "Method:                       css-mle   S.D. of innovations              0.011\n",
      "Date:                Sun, 15 Mar 2020   AIC                         -38602.901\n",
      "Time:                        09:55:16   BIC                         -38582.667\n",
      "Sample:                    01-10-1994   HQIC                        -38595.890\n",
      "                         - 01-29-2018                                         \n",
      "=================================================================================\n",
      "                    coef    std err          z      P>|z|      [0.025      0.975]\n",
      "---------------------------------------------------------------------------------\n",
      "const             0.0002      0.000      1.374      0.169   -8.09e-05       0.000\n",
      "ma.L1.returns    -0.0196      0.013     -1.467      0.142      -0.046       0.007\n",
      "                                    Roots                                    \n",
      "=============================================================================\n",
      "                  Real          Imaginary           Modulus         Frequency\n",
      "-----------------------------------------------------------------------------\n",
      "MA.1           51.1209           +0.0000j           51.1209            0.0000\n",
      "-----------------------------------------------------------------------------\n"
     ]
    }
   ],
   "source": [
    "# Order -> (P, Q)\n",
    "model_ret_ma_1 = ARMA(df_ftse[\"returns\"][1:], order=(0, 1))\n",
    "results_ret_ma_1 = model_ret_ma_1.fit()\n",
    "print(results_ret_ma_1.summary())"
   ]
  },
  {
   "cell_type": "markdown",
   "metadata": {},
   "source": [
    "***You don't need to check the p-value for the coefficient from this summary, refer to the ACF plot and cross-check it.***"
   ]
  },
  {
   "cell_type": "code",
   "execution_count": 7,
   "metadata": {},
   "outputs": [
    {
     "name": "stdout",
     "output_type": "stream",
     "text": [
      "                              ARMA Model Results                              \n",
      "==============================================================================\n",
      "Dep. Variable:                returns   No. Observations:                 6276\n",
      "Model:                     ARMA(0, 2)   Log Likelihood               19312.209\n",
      "Method:                       css-mle   S.D. of innovations              0.011\n",
      "Date:                Sun, 15 Mar 2020   AIC                         -38616.419\n",
      "Time:                        09:55:16   BIC                         -38589.441\n",
      "Sample:                    01-10-1994   HQIC                        -38607.071\n",
      "                         - 01-29-2018                                         \n",
      "=================================================================================\n",
      "                    coef    std err          z      P>|z|      [0.025      0.975]\n",
      "---------------------------------------------------------------------------------\n",
      "const             0.0002      0.000      1.457      0.145   -6.55e-05       0.000\n",
      "ma.L1.returns    -0.0254      0.013     -2.000      0.046      -0.050      -0.001\n",
      "ma.L2.returns    -0.0488      0.012     -3.940      0.000      -0.073      -0.025\n",
      "                                    Roots                                    \n",
      "=============================================================================\n",
      "                  Real          Imaginary           Modulus         Frequency\n",
      "-----------------------------------------------------------------------------\n",
      "MA.1            4.2757           +0.0000j            4.2757            0.0000\n",
      "MA.2           -4.7963           +0.0000j            4.7963            0.5000\n",
      "-----------------------------------------------------------------------------\n",
      "LLR Test p-value:  0.0001\n"
     ]
    }
   ],
   "source": [
    "model_ret_ma_2 = ARMA(df_ftse[\"returns\"][1:], order=(0, 2))\n",
    "results_ret_ma_2 = model_ret_ma_2.fit()\n",
    "print(results_ret_ma_2.summary())\n",
    "print(\"LLR Test p-value: \", LLR_test(ARMA(df_ftse[\"returns\"][1:], order=(0, 1)), \n",
    "                                     ARMA(df_ftse[\"returns\"][1:], order=(0, 2))))"
   ]
  },
  {
   "cell_type": "code",
   "execution_count": 9,
   "metadata": {},
   "outputs": [
    {
     "name": "stdout",
     "output_type": "stream",
     "text": [
      "                              ARMA Model Results                              \n",
      "==============================================================================\n",
      "Dep. Variable:                returns   No. Observations:                 6276\n",
      "Model:                     ARMA(0, 3)   Log Likelihood               19328.554\n",
      "Method:                       css-mle   S.D. of innovations              0.011\n",
      "Date:                Sun, 15 Mar 2020   AIC                         -38647.109\n",
      "Time:                        09:57:01   BIC                         -38613.386\n",
      "Sample:                    01-10-1994   HQIC                        -38635.424\n",
      "                         - 01-29-2018                                         \n",
      "=================================================================================\n",
      "                    coef    std err          z      P>|z|      [0.025      0.975]\n",
      "---------------------------------------------------------------------------------\n",
      "const             0.0002      0.000      1.587      0.113   -4.47e-05       0.000\n",
      "ma.L1.returns    -0.0175      0.013     -1.380      0.168      -0.042       0.007\n",
      "ma.L2.returns    -0.0539      0.012     -4.405      0.000      -0.078      -0.030\n",
      "ma.L3.returns    -0.0749      0.013     -5.740      0.000      -0.100      -0.049\n",
      "                                    Roots                                    \n",
      "=============================================================================\n",
      "                  Real          Imaginary           Modulus         Frequency\n",
      "-----------------------------------------------------------------------------\n",
      "MA.1            2.1254           -0.0000j            2.1254           -0.0000\n",
      "MA.2           -1.4225           -2.0632j            2.5060           -0.3461\n",
      "MA.3           -1.4225           +2.0632j            2.5060            0.3461\n",
      "-----------------------------------------------------------------------------\n",
      "LLR Test p-value:  0.0\n"
     ]
    }
   ],
   "source": [
    "model_ret_ma_3 = ARMA(df_ftse[\"returns\"][1:], order=(0, 3))\n",
    "results_ret_ma_3 = model_ret_ma_3.fit()\n",
    "print(results_ret_ma_3.summary())\n",
    "print(\"LLR Test p-value: \", LLR_test(ARMA(df_ftse[\"returns\"][1:], order=(0, 2)), \n",
    "                                     ARMA(df_ftse[\"returns\"][1:], order=(0, 3))))"
   ]
  },
  {
   "cell_type": "code",
   "execution_count": 10,
   "metadata": {},
   "outputs": [
    {
     "name": "stdout",
     "output_type": "stream",
     "text": [
      "                              ARMA Model Results                              \n",
      "==============================================================================\n",
      "Dep. Variable:                returns   No. Observations:                 6276\n",
      "Model:                     ARMA(0, 4)   Log Likelihood               19331.628\n",
      "Method:                       css-mle   S.D. of innovations              0.011\n",
      "Date:                Sun, 15 Mar 2020   AIC                         -38651.256\n",
      "Time:                        09:57:03   BIC                         -38610.789\n",
      "Sample:                    01-10-1994   HQIC                        -38637.235\n",
      "                         - 01-29-2018                                         \n",
      "=================================================================================\n",
      "                    coef    std err          z      P>|z|      [0.025      0.975]\n",
      "---------------------------------------------------------------------------------\n",
      "const             0.0002      0.000      1.532      0.125    -5.3e-05       0.000\n",
      "ma.L1.returns    -0.0169      0.013     -1.341      0.180      -0.042       0.008\n",
      "ma.L2.returns    -0.0540      0.013     -4.274      0.000      -0.079      -0.029\n",
      "ma.L3.returns    -0.0760      0.013     -5.855      0.000      -0.101      -0.051\n",
      "ma.L4.returns     0.0306      0.012      2.483      0.013       0.006       0.055\n",
      "                                    Roots                                    \n",
      "=============================================================================\n",
      "                  Real          Imaginary           Modulus         Frequency\n",
      "-----------------------------------------------------------------------------\n",
      "MA.1           -1.3357           -1.5445j            2.0419           -0.3635\n",
      "MA.2           -1.3357           +1.5445j            2.0419            0.3635\n",
      "MA.3            2.5787           -1.0922j            2.8005           -0.0638\n",
      "MA.4            2.5787           +1.0922j            2.8005            0.0638\n",
      "-----------------------------------------------------------------------------\n",
      "LLR Test p-value:  0.0132\n"
     ]
    }
   ],
   "source": [
    "model_ret_ma_4 = ARMA(df_ftse[\"returns\"][1:], order=(0, 4))\n",
    "results_ret_ma_4 = model_ret_ma_4.fit()\n",
    "print(results_ret_ma_4.summary())\n",
    "print(\"LLR Test p-value: \", LLR_test(ARMA(df_ftse[\"returns\"][1:], order=(0, 3)), \n",
    "                                     ARMA(df_ftse[\"returns\"][1:], order=(0, 4))))"
   ]
  },
  {
   "cell_type": "code",
   "execution_count": 11,
   "metadata": {},
   "outputs": [
    {
     "name": "stdout",
     "output_type": "stream",
     "text": [
      "                              ARMA Model Results                              \n",
      "==============================================================================\n",
      "Dep. Variable:                returns   No. Observations:                 6276\n",
      "Model:                     ARMA(0, 5)   Log Likelihood               19339.398\n",
      "Method:                       css-mle   S.D. of innovations              0.011\n",
      "Date:                Sun, 15 Mar 2020   AIC                         -38664.796\n",
      "Time:                        09:57:05   BIC                         -38617.585\n",
      "Sample:                    01-10-1994   HQIC                        -38648.438\n",
      "                         - 01-29-2018                                         \n",
      "=================================================================================\n",
      "                    coef    std err          z      P>|z|      [0.025      0.975]\n",
      "---------------------------------------------------------------------------------\n",
      "const             0.0002      0.000      1.617      0.106   -4.04e-05       0.000\n",
      "ma.L1.returns    -0.0214      0.013     -1.691      0.091      -0.046       0.003\n",
      "ma.L2.returns    -0.0494      0.013     -3.911      0.000      -0.074      -0.025\n",
      "ma.L3.returns    -0.0703      0.013     -5.405      0.000      -0.096      -0.045\n",
      "ma.L4.returns     0.0311      0.012      2.533      0.011       0.007       0.055\n",
      "ma.L5.returns    -0.0510      0.013     -3.947      0.000      -0.076      -0.026\n",
      "                                    Roots                                    \n",
      "=============================================================================\n",
      "                  Real          Imaginary           Modulus         Frequency\n",
      "-----------------------------------------------------------------------------\n",
      "MA.1           -1.2703           -1.0793j            1.6669           -0.3879\n",
      "MA.2           -1.2703           +1.0793j            1.6669            0.3879\n",
      "MA.3            1.7050           -0.0000j            1.7050           -0.0000\n",
      "MA.4            0.7231           -1.9021j            2.0349           -0.1922\n",
      "MA.5            0.7231           +1.9021j            2.0349            0.1922\n",
      "-----------------------------------------------------------------------------\n",
      "LLR Test p-value:  0.0001\n"
     ]
    }
   ],
   "source": [
    "model_ret_ma_5 = ARMA(df_ftse[\"returns\"][1:], order=(0, 5))\n",
    "results_ret_ma_5 = model_ret_ma_5.fit()\n",
    "print(results_ret_ma_5.summary())\n",
    "print(\"LLR Test p-value: \", LLR_test(ARMA(df_ftse[\"returns\"][1:], order=(0, 4)), \n",
    "                                     ARMA(df_ftse[\"returns\"][1:], order=(0, 5))))"
   ]
  },
  {
   "cell_type": "code",
   "execution_count": 12,
   "metadata": {},
   "outputs": [
    {
     "name": "stdout",
     "output_type": "stream",
     "text": [
      "                              ARMA Model Results                              \n",
      "==============================================================================\n",
      "Dep. Variable:                returns   No. Observations:                 6276\n",
      "Model:                     ARMA(0, 6)   Log Likelihood               19342.158\n",
      "Method:                       css-mle   S.D. of innovations              0.011\n",
      "Date:                Sun, 15 Mar 2020   AIC                         -38668.317\n",
      "Time:                        09:57:09   BIC                         -38614.361\n",
      "Sample:                    01-10-1994   HQIC                        -38649.622\n",
      "                         - 01-29-2018                                         \n",
      "=================================================================================\n",
      "                    coef    std err          z      P>|z|      [0.025      0.975]\n",
      "---------------------------------------------------------------------------------\n",
      "const             0.0002      0.000      1.668      0.095   -3.33e-05       0.000\n",
      "ma.L1.returns    -0.0194      0.013     -1.542      0.123      -0.044       0.005\n",
      "ma.L2.returns    -0.0487      0.013     -3.857      0.000      -0.073      -0.024\n",
      "ma.L3.returns    -0.0685      0.013     -5.417      0.000      -0.093      -0.044\n",
      "ma.L4.returns     0.0316      0.012      2.568      0.010       0.007       0.056\n",
      "ma.L5.returns    -0.0505      0.013     -3.928      0.000      -0.076      -0.025\n",
      "ma.L6.returns    -0.0303      0.013     -2.348      0.019      -0.056      -0.005\n",
      "                                    Roots                                    \n",
      "=============================================================================\n",
      "                  Real          Imaginary           Modulus         Frequency\n",
      "-----------------------------------------------------------------------------\n",
      "MA.1            1.5207           -0.0000j            1.5207           -0.0000\n",
      "MA.2            0.8003           -1.5365j            1.7324           -0.1736\n",
      "MA.3            0.8003           +1.5365j            1.7324            0.1736\n",
      "MA.4           -1.0932           -1.2585j            1.6670           -0.3638\n",
      "MA.5           -1.0932           +1.2585j            1.6670            0.3638\n",
      "MA.6           -2.5994           -0.0000j            2.5994           -0.5000\n",
      "-----------------------------------------------------------------------------\n",
      "LLR Test p-value:  0.0188\n"
     ]
    }
   ],
   "source": [
    "model_ret_ma_6 = ARMA(df_ftse[\"returns\"][1:], order=(0, 6))\n",
    "results_ret_ma_6 = model_ret_ma_6.fit()\n",
    "print(results_ret_ma_6.summary())\n",
    "print(\"LLR Test p-value: \", LLR_test(ARMA(df_ftse[\"returns\"][1:], order=(0, 5)), \n",
    "                                     ARMA(df_ftse[\"returns\"][1:], order=(0, 6))))"
   ]
  },
  {
   "cell_type": "code",
   "execution_count": 13,
   "metadata": {},
   "outputs": [
    {
     "name": "stdout",
     "output_type": "stream",
     "text": [
      "                              ARMA Model Results                              \n",
      "==============================================================================\n",
      "Dep. Variable:                returns   No. Observations:                 6276\n",
      "Model:                     ARMA(0, 7)   Log Likelihood               19342.333\n",
      "Method:                       css-mle   S.D. of innovations              0.011\n",
      "Date:                Sun, 15 Mar 2020   AIC                         -38666.667\n",
      "Time:                        09:57:13   BIC                         -38605.966\n",
      "Sample:                    01-10-1994   HQIC                        -38645.635\n",
      "                         - 01-29-2018                                         \n",
      "=================================================================================\n",
      "                    coef    std err          z      P>|z|      [0.025      0.975]\n",
      "---------------------------------------------------------------------------------\n",
      "const             0.0002      0.000      1.655      0.098   -3.51e-05       0.000\n",
      "ma.L1.returns    -0.0201      0.013     -1.586      0.113      -0.045       0.005\n",
      "ma.L2.returns    -0.0490      0.013     -3.881      0.000      -0.074      -0.024\n",
      "ma.L3.returns    -0.0680      0.013     -5.371      0.000      -0.093      -0.043\n",
      "ma.L4.returns     0.0311      0.012      2.524      0.012       0.007       0.055\n",
      "ma.L5.returns    -0.0506      0.013     -3.935      0.000      -0.076      -0.025\n",
      "ma.L6.returns    -0.0305      0.013     -2.361      0.018      -0.056      -0.005\n",
      "ma.L7.returns     0.0076      0.013      0.591      0.554      -0.018       0.033\n",
      "                                    Roots                                    \n",
      "=============================================================================\n",
      "                  Real          Imaginary           Modulus         Frequency\n",
      "-----------------------------------------------------------------------------\n",
      "MA.1           -1.0359           -1.2101j            1.5929           -0.3627\n",
      "MA.2           -1.0359           +1.2101j            1.5929            0.3627\n",
      "MA.3           -2.1268           -0.0000j            2.1268           -0.5000\n",
      "MA.4            0.7148           -1.5705j            1.7255           -0.1820\n",
      "MA.5            0.7148           +1.5705j            1.7255            0.1820\n",
      "MA.6            1.5747           -0.0000j            1.5747           -0.0000\n",
      "MA.7            5.2196           -0.0000j            5.2196           -0.0000\n",
      "-----------------------------------------------------------------------------\n",
      "LLR Test p-value:  0.5543\n"
     ]
    }
   ],
   "source": [
    "model_ret_ma_7 = ARMA(df_ftse[\"returns\"][1:], order=(0, 7))\n",
    "results_ret_ma_7 = model_ret_ma_7.fit()\n",
    "print(results_ret_ma_7.summary())\n",
    "print(\"LLR Test p-value: \", LLR_test(ARMA(df_ftse[\"returns\"][1:], order=(0, 6)), \n",
    "                                     ARMA(df_ftse[\"returns\"][1:], order=(0, 7))))"
   ]
  },
  {
   "cell_type": "markdown",
   "metadata": {},
   "source": [
    "***Hence, we stop at MA(6). But the ACF plot suggested that 8th lag was significant.***"
   ]
  },
  {
   "cell_type": "code",
   "execution_count": 14,
   "metadata": {},
   "outputs": [
    {
     "name": "stdout",
     "output_type": "stream",
     "text": [
      "                              ARMA Model Results                              \n",
      "==============================================================================\n",
      "Dep. Variable:                returns   No. Observations:                 6276\n",
      "Model:                     ARMA(0, 8)   Log Likelihood               19344.437\n",
      "Method:                       css-mle   S.D. of innovations              0.011\n",
      "Date:                Sun, 15 Mar 2020   AIC                         -38668.873\n",
      "Time:                        09:57:17   BIC                         -38601.428\n",
      "Sample:                    01-10-1994   HQIC                        -38645.505\n",
      "                         - 01-29-2018                                         \n",
      "=================================================================================\n",
      "                    coef    std err          z      P>|z|      [0.025      0.975]\n",
      "---------------------------------------------------------------------------------\n",
      "const             0.0002      0.000      1.609      0.108   -4.15e-05       0.000\n",
      "ma.L1.returns    -0.0197      0.013     -1.563      0.118      -0.044       0.005\n",
      "ma.L2.returns    -0.0491      0.013     -3.895      0.000      -0.074      -0.024\n",
      "ma.L3.returns    -0.0694      0.013     -5.488      0.000      -0.094      -0.045\n",
      "ma.L4.returns     0.0329      0.013      2.597      0.009       0.008       0.058\n",
      "ma.L5.returns    -0.0523      0.013     -4.090      0.000      -0.077      -0.027\n",
      "ma.L6.returns    -0.0311      0.013     -2.412      0.016      -0.056      -0.006\n",
      "ma.L7.returns     0.0076      0.013      0.596      0.551      -0.017       0.033\n",
      "ma.L8.returns     0.0255      0.012      2.052      0.040       0.001       0.050\n",
      "                                    Roots                                    \n",
      "=============================================================================\n",
      "                  Real          Imaginary           Modulus         Frequency\n",
      "-----------------------------------------------------------------------------\n",
      "MA.1            1.5487           -0.4195j            1.6045           -0.0421\n",
      "MA.2            1.5487           +0.4195j            1.6045            0.0421\n",
      "MA.3            0.5993           -1.3679j            1.4934           -0.1843\n",
      "MA.4            0.5993           +1.3679j            1.4934            0.1843\n",
      "MA.5           -0.7874           -1.3439j            1.5576           -0.3344\n",
      "MA.6           -0.7874           +1.3439j            1.5576            0.3344\n",
      "MA.7           -1.5100           -0.7333j            1.6787           -0.4280\n",
      "MA.8           -1.5100           +0.7333j            1.6787            0.4280\n",
      "-----------------------------------------------------------------------------\n",
      "LLR Test p-value:  0.0403\n"
     ]
    }
   ],
   "source": [
    "model_ret_ma_8 = ARMA(df_ftse[\"returns\"][1:], order=(0, 8))\n",
    "results_ret_ma_8 = model_ret_ma_8.fit()\n",
    "print(results_ret_ma_8.summary())\n",
    "print(\"LLR Test p-value: \", LLR_test(ARMA(df_ftse[\"returns\"][1:], order=(0, 7)), \n",
    "                                     ARMA(df_ftse[\"returns\"][1:], order=(0, 8))))"
   ]
  },
  {
   "cell_type": "code",
   "execution_count": 15,
   "metadata": {},
   "outputs": [
    {
     "name": "stdout",
     "output_type": "stream",
     "text": [
      "LLR Test p-value:  0.1025\n"
     ]
    }
   ],
   "source": [
    "print(\"LLR Test p-value: \", LLR_test(ARMA(df_ftse[\"returns\"][1:], order=(0, 6)), \n",
    "                                     ARMA(df_ftse[\"returns\"][1:], order=(0, 8)), df=2))"
   ]
  },
  {
   "cell_type": "markdown",
   "metadata": {},
   "source": [
    "***Hence, we choose MA(6).***"
   ]
  },
  {
   "cell_type": "markdown",
   "metadata": {},
   "source": [
    "## Residuals for returns"
   ]
  },
  {
   "cell_type": "code",
   "execution_count": 16,
   "metadata": {},
   "outputs": [],
   "source": [
    "df_ftse[\"res_ret_ma_8\"] = results_ret_ma_8.resid[1:]"
   ]
  },
  {
   "cell_type": "code",
   "execution_count": 17,
   "metadata": {},
   "outputs": [
    {
     "data": {
      "text/plain": [
       "(-79.20663510752233,\n",
       " 0.0,\n",
       " 0,\n",
       " 6274,\n",
       " {'1%': -3.4313927123850956,\n",
       "  '5%': -2.8620007867175294,\n",
       "  '10%': -2.5670152737839897},\n",
       " -38448.42134924977)"
      ]
     },
     "execution_count": 17,
     "metadata": {},
     "output_type": "execute_result"
    }
   ],
   "source": [
    "sts.adfuller(df_ftse[\"res_ret_ma_8\"][2:])"
   ]
  },
  {
   "cell_type": "markdown",
   "metadata": {},
   "source": [
    "***Hence, the error term is indeed white noise, as it is stationary.***"
   ]
  },
  {
   "cell_type": "markdown",
   "metadata": {},
   "source": [
    "## Normalized returns"
   ]
  },
  {
   "cell_type": "code",
   "execution_count": 18,
   "metadata": {},
   "outputs": [
    {
     "data": {
      "image/png": "[encoded data removed]",
      "text/plain": [
       "<Figure size 432x288 with 1 Axes>"
      ]
     },
     "metadata": {
      "needs_background": "light"
     },
     "output_type": "display_data"
    }
   ],
   "source": [
    "bench_ret = df_ftse[\"returns\"].iloc[1]\n",
    "df_ftse[\"norm_ret\"] = (df_ftse[\"returns\"] / bench_ret) * 100\n",
    "\n",
    "sgt.plot_acf(df_ftse[\"norm_ret\"][1:], lags=40, zero=False)\n",
    "plt.show()"
   ]
  },
  {
   "cell_type": "markdown",
   "metadata": {},
   "source": [
    "***Use normalized returns column and build a MA model using that. Then compare performances. Also, check for the ACF plots for the residuals of the series, as they should be stationary(white noise).***"
   ]
  }
 ],
 "metadata": {
  "kernelspec": {
   "display_name": "my_env",
   "language": "python",
   "name": "my_env"
  },
  "language_info": {
   "codemirror_mode": {
    "name": "ipython",
    "version": 3
   },
   "file_extension": ".py",
   "mimetype": "text/x-python",
   "name": "python",
   "nbconvert_exporter": "python",
   "pygments_lexer": "ipython3",
   "version": "3.7.3"
  }
 },
 "nbformat": 4,
 "nbformat_minor": 4
}
