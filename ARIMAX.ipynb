{
 "cells": [
  {
   "cell_type": "code",
   "execution_count": 1,
   "metadata": {},
   "outputs": [],
   "source": [
    "import numpy as np\n",
    "import pandas as pd\n",
    "import matplotlib.pyplot as plt\n",
    "import seaborn as sns\n",
    "import statsmodels.graphics.tsaplots as sgt\n",
    "import statsmodels.tsa.stattools as sts\n",
    "from statsmodels.tsa.arima_model import ARIMA\n",
    "from scipy.stats import chi2\n",
    "import itertools\n",
    "\n",
    "%matplotlib inline\n",
    "\n",
    "import warnings\n",
    "warnings.filterwarnings(\"ignore\")"
   ]
  },
  {
   "cell_type": "markdown",
   "metadata": {},
   "source": [
    "## ARIMAX\n",
    "\n",
    "***ARIMAX stands for Autoregressive Integrated Moving Average exogenous Model.***\n",
    "\n",
    "***ARIMAX is like ARIMA which can take other variables(called exogenous variables) which are useful for predicting the current value in the series besides from the previous values and the previous residuals.***\n",
    "\n",
    "$$\\Delta X(t) = C + \\beta \\cdot Y + (\\delta_1 \\cdot \\Delta X(t - 1) + \\dotso + \\delta_p \\cdot \\Delta X(t - p)) +\n",
    "                                      (\\theta_1 \\cdot Er(t - 1) + \\dotso + \\theta_q \\cdot Er(t - q)) + Er(t) $$\n",
    "$$\\text{where,}$$\n",
    "$$\\beta = \\text{value which will be fitted based on model selection and data}$$\n",
    "$$Y = \\text{variable(s) which affects the predictor(also called exogenous variable(s))}$$"
   ]
  },
  {
   "cell_type": "code",
   "execution_count": 2,
   "metadata": {},
   "outputs": [
    {
     "data": {
      "text/html": [
       "<div>\n",
       "<style scoped>\n",
       "    .dataframe tbody tr th:only-of-type {\n",
       "        vertical-align: middle;\n",
       "    }\n",
       "\n",
       "    .dataframe tbody tr th {\n",
       "        vertical-align: top;\n",
       "    }\n",
       "\n",
       "    .dataframe thead th {\n",
       "        text-align: right;\n",
       "    }\n",
       "</style>\n",
       "<table border=\"1\" class=\"dataframe\">\n",
       "  <thead>\n",
       "    <tr style=\"text-align: right;\">\n",
       "      <th></th>\n",
       "      <th>date</th>\n",
       "      <th>spx</th>\n",
       "      <th>dax</th>\n",
       "      <th>ftse</th>\n",
       "      <th>nikkei</th>\n",
       "    </tr>\n",
       "  </thead>\n",
       "  <tbody>\n",
       "    <tr>\n",
       "      <th>0</th>\n",
       "      <td>07/01/1994</td>\n",
       "      <td>469.90</td>\n",
       "      <td>2224.95</td>\n",
       "      <td>3445.98</td>\n",
       "      <td>18124.01</td>\n",
       "    </tr>\n",
       "    <tr>\n",
       "      <th>1</th>\n",
       "      <td>10/01/1994</td>\n",
       "      <td>475.27</td>\n",
       "      <td>2225.00</td>\n",
       "      <td>3440.58</td>\n",
       "      <td>18443.44</td>\n",
       "    </tr>\n",
       "    <tr>\n",
       "      <th>2</th>\n",
       "      <td>11/01/1994</td>\n",
       "      <td>474.13</td>\n",
       "      <td>2228.10</td>\n",
       "      <td>3413.77</td>\n",
       "      <td>18485.25</td>\n",
       "    </tr>\n",
       "    <tr>\n",
       "      <th>3</th>\n",
       "      <td>12/01/1994</td>\n",
       "      <td>474.17</td>\n",
       "      <td>2182.06</td>\n",
       "      <td>3372.02</td>\n",
       "      <td>18793.88</td>\n",
       "    </tr>\n",
       "    <tr>\n",
       "      <th>4</th>\n",
       "      <td>13/01/1994</td>\n",
       "      <td>472.47</td>\n",
       "      <td>2142.37</td>\n",
       "      <td>3360.01</td>\n",
       "      <td>18577.26</td>\n",
       "    </tr>\n",
       "  </tbody>\n",
       "</table>\n",
       "</div>"
      ],
      "text/plain": [
       "         date     spx      dax     ftse    nikkei\n",
       "0  07/01/1994  469.90  2224.95  3445.98  18124.01\n",
       "1  10/01/1994  475.27  2225.00  3440.58  18443.44\n",
       "2  11/01/1994  474.13  2228.10  3413.77  18485.25\n",
       "3  12/01/1994  474.17  2182.06  3372.02  18793.88\n",
       "4  13/01/1994  472.47  2142.37  3360.01  18577.26"
      ]
     },
     "execution_count": 2,
     "metadata": {},
     "output_type": "execute_result"
    }
   ],
   "source": [
    "actual_data = pd.read_csv(\"../../datasets/stock_prices/index_2018.csv\")\n",
    "df = actual_data.copy()\n",
    "df.head()"
   ]
  },
  {
   "cell_type": "code",
   "execution_count": 3,
   "metadata": {},
   "outputs": [],
   "source": [
    "df[\"date\"] = pd.to_datetime(df[\"date\"], dayfirst=True)\n",
    "df_index = df[\"date\"]\n",
    "df.drop(\"date\", axis=1, inplace=True)\n",
    "df.index = df_index\n",
    "df.index.name = None\n",
    "\n",
    "df = df.asfreq(\"b\")\n",
    "\n",
    "df = df.apply(lambda x: x.fillna(method=\"ffill\"))\n",
    "\n",
    "df_spx = pd.DataFrame(df[\"spx\"])\n",
    "df_ftse = pd.DataFrame(df[\"ftse\"])\n",
    "\n",
    "df_ftse[\"returns\"] = df_ftse[\"ftse\"].pct_change(1)"
   ]
  },
  {
   "cell_type": "code",
   "execution_count": 12,
   "metadata": {},
   "outputs": [
    {
     "name": "stdout",
     "output_type": "stream",
     "text": [
      "                             ARIMA Model Results                              \n",
      "==============================================================================\n",
      "Dep. Variable:                 D.ftse   No. Observations:                 6276\n",
      "Model:                 ARIMA(1, 1, 1)   Log Likelihood              -34416.179\n",
      "Method:                       css-mle   S.D. of innovations             58.255\n",
      "Date:                Mon, 16 Mar 2020   AIC                          68844.357\n",
      "Time:                        11:25:21   BIC                          68884.824\n",
      "Sample:                    01-10-1994   HQIC                         68858.378\n",
      "                         - 01-29-2018                                         \n",
      "================================================================================\n",
      "                   coef    std err          z      P>|z|      [0.025      0.975]\n",
      "--------------------------------------------------------------------------------\n",
      "const           -2.0857      1.840     -1.133      0.257      -5.692       1.521\n",
      "spx              0.0091      0.005      1.815      0.070      -0.001       0.019\n",
      "dax             -0.0015      0.001     -1.662      0.096      -0.003       0.000\n",
      "ar.L1.D.ftse     0.8495      0.078     10.858      0.000       0.696       1.003\n",
      "ma.L1.D.ftse    -0.8837      0.070    -12.648      0.000      -1.021      -0.747\n",
      "                                    Roots                                    \n",
      "=============================================================================\n",
      "                  Real          Imaginary           Modulus         Frequency\n",
      "-----------------------------------------------------------------------------\n",
      "AR.1            1.1772           +0.0000j            1.1772            0.0000\n",
      "MA.1            1.1317           +0.0000j            1.1317            0.0000\n",
      "-----------------------------------------------------------------------------\n"
     ]
    }
   ],
   "source": [
    "x_ = ARIMA(df_ftse[\"ftse\"], exog=df[[\"spx\", \"dax\"]], order=(1, 1, 1))\n",
    "r_ = x_.fit()\n",
    "print(r_.summary())"
   ]
  },
  {
   "cell_type": "markdown",
   "metadata": {},
   "source": [
    "## SARIMAX\n",
    "\n",
    "***SARIMAX stands for Seasonal Autoregressive Integrated Moving Average Exogenous Model.***\n",
    "\n",
    "***This model takes into consideration the seasonal effect on the trends in the series. The absence of taking this effect into consideration in previous models resulted in poor predictions. Here, we take previous season values alongwith the values before the seasonal values if we wish to.***\n",
    "\n",
    "\n",
    "$$SARIMA(p, d, q)(P, D, Q, s) = C + (\\delta_1 \\cdot X(t - 1) + \\delta_10 \\cdot X(t - 10) \\delta_11 \\cdot X(t - 11)\n",
    "                                     + \\delta_20 \\cdot X(t - 20) \\delta_21 \\cdot X(t - 21)) + (\\theta_1 \\cdot Er(t - 1)\n",
    "                                     + \\theta_10 \\cdot Er(t - 10) + \\theta_11 \\cdot Er(t - 11) + \n",
    "                                     \\theta_12 \\cdot Er(t - 12)) + Er(t)$$"
   ]
  },
  {
   "cell_type": "code",
   "execution_count": 13,
   "metadata": {},
   "outputs": [],
   "source": [
    "from statsmodels.tsa.statespace.sarimax import SARIMAX"
   ]
  },
  {
   "cell_type": "code",
   "execution_count": 16,
   "metadata": {},
   "outputs": [
    {
     "name": "stdout",
     "output_type": "stream",
     "text": [
      "                                 Statespace Model Results                                \n",
      "=========================================================================================\n",
      "Dep. Variable:                              ftse   No. Observations:                 6277\n",
      "Model:             SARIMAX(1, 0, 1)x(2, 0, 1, 5)   Log Likelihood              -33260.628\n",
      "Date:                           Mon, 16 Mar 2020   AIC                          66535.255\n",
      "Time:                                   12:12:53   BIC                          66582.455\n",
      "Sample:                               01-07-1994   HQIC                         66551.610\n",
      "                                    - 01-29-2018                                         \n",
      "Covariance Type:                             opg                                         \n",
      "==============================================================================\n",
      "                 coef    std err          z      P>|z|      [0.025      0.975]\n",
      "------------------------------------------------------------------------------\n",
      "spx            2.5786      0.036     72.428      0.000       2.509       2.648\n",
      "ar.L1          0.9998      0.000   4565.998      0.000       0.999       1.000\n",
      "ma.L1         -0.2791      0.010    -27.916      0.000      -0.299      -0.259\n",
      "ar.S.L5        0.6514      0.348      1.870      0.061      -0.031       1.334\n",
      "ar.S.L10       0.0090      0.019      0.486      0.627      -0.027       0.046\n",
      "ma.S.L5       -0.6805      0.349     -1.953      0.051      -1.364       0.003\n",
      "sigma2      2718.0709     33.540     81.039      0.000    2652.333    2783.809\n",
      "===================================================================================\n",
      "Ljung-Box (Q):                       92.32   Jarque-Bera (JB):              4473.64\n",
      "Prob(Q):                              0.00   Prob(JB):                         0.00\n",
      "Heteroskedasticity (H):               0.76   Skew:                            -0.41\n",
      "Prob(H) (two-sided):                  0.00   Kurtosis:                         7.06\n",
      "===================================================================================\n",
      "\n",
      "Warnings:\n",
      "[1] Covariance matrix calculated using the outer product of gradients (complex-step).\n"
     ]
    }
   ],
   "source": [
    "m = SARIMAX(df_ftse[\"ftse\"], exog=df[\"spx\"], order=(1, 0, 1), seasonal_order=(2, 0, 1, 5), enforce_stationarity=False)\n",
    "r = m.fit()\n",
    "print(r.summary())"
   ]
  },
  {
   "cell_type": "code",
   "execution_count": null,
   "metadata": {},
   "outputs": [],
   "source": []
  },
  {
   "cell_type": "code",
   "execution_count": null,
   "metadata": {},
   "outputs": [],
   "source": []
  }
 ],
 "metadata": {
  "kernelspec": {
   "display_name": "my_env",
   "language": "python",
   "name": "my_env"
  },
  "language_info": {
   "codemirror_mode": {
    "name": "ipython",
    "version": 3
   },
   "file_extension": ".py",
   "mimetype": "text/x-python",
   "name": "python",
   "nbconvert_exporter": "python",
   "pygments_lexer": "ipython3",
   "version": "3.7.3"
  }
 },
 "nbformat": 4,
 "nbformat_minor": 4
}
